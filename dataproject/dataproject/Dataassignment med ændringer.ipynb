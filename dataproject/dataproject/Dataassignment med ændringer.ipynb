{
 "cells": [
  {
   "cell_type": "code",
   "execution_count": 1,
   "metadata": {
    "collapsed": true
   },
   "outputs": [],
   "source": [
    "import numpy as np\n",
    "import pandas_datareader\n",
    "from datetime import datetime\n",
    "import pandas as pd\n",
    "import matplotlib.pyplot as plt\n",
    "from pytrends.request import TrendReq  #imports pytrends for loading google trends data\n",
    "pytrends = TrendReq(hl='en-US', tz=360)"
   ]
  },
  {
   "cell_type": "code",
   "execution_count": 2,
   "metadata": {
    "collapsed": true
   },
   "outputs": [],
   "source": [
    "start = datetime(2019,1,2)\n",
    "end = datetime(2019,3,18)"
   ]
  },
  {
   "cell_type": "code",
   "execution_count": 3,
   "metadata": {
    "collapsed": true
   },
   "outputs": [],
   "source": [
    "def prices(name, start=start, end=end):\n",
    "    '''returns a dataframe with stock-information for a given company'''\n",
    "    return pandas_datareader.iex.daily.IEXDailyReader(name, start, end).read()"
   ]
  },
  {
   "cell_type": "code",
   "execution_count": 4,
   "metadata": {
    "collapsed": true
   },
   "outputs": [],
   "source": [
    "def searches(*kw_list):\n",
    "    pytrends.build_payload(kw_list, cat=0, timeframe='2019-1-2 2019-3-18', geo='', gprop='')\n",
    "    searches = pytrends.interest_over_time()\n",
    "    return searches.drop(columns = \"isPartial\")"
   ]
  },
  {
   "cell_type": "code",
   "execution_count": 5,
   "metadata": {
    "collapsed": true
   },
   "outputs": [],
   "source": [
    "def combine_data_frames(df1, df2):\n",
    "    return df1.join(df2, how='outer')"
   ]
  },
  {
   "cell_type": "code",
   "execution_count": 6,
   "metadata": {
    "collapsed": false
   },
   "outputs": [],
   "source": [
    "IBM_data = prices(\"IBM\")\n",
    "IBM_S = searches(\"IBM\")\n",
    "IBM = combine_data_frames(IBM_S, IBM_data)"
   ]
  },
  {
   "cell_type": "code",
   "execution_count": 7,
   "metadata": {
    "collapsed": false
   },
   "outputs": [
    {
     "data": {
      "text/html": [
       "<div>\n",
       "<style scoped>\n",
       "    .dataframe tbody tr th:only-of-type {\n",
       "        vertical-align: middle;\n",
       "    }\n",
       "\n",
       "    .dataframe tbody tr th {\n",
       "        vertical-align: top;\n",
       "    }\n",
       "\n",
       "    .dataframe thead th {\n",
       "        text-align: right;\n",
       "    }\n",
       "</style>\n",
       "<table border=\"1\" class=\"dataframe\">\n",
       "  <thead>\n",
       "    <tr style=\"text-align: right;\">\n",
       "      <th></th>\n",
       "      <th>IBM</th>\n",
       "      <th>open</th>\n",
       "      <th>high</th>\n",
       "      <th>low</th>\n",
       "      <th>close</th>\n",
       "      <th>volume</th>\n",
       "    </tr>\n",
       "    <tr>\n",
       "      <th>date</th>\n",
       "      <th></th>\n",
       "      <th></th>\n",
       "      <th></th>\n",
       "      <th></th>\n",
       "      <th></th>\n",
       "      <th></th>\n",
       "    </tr>\n",
       "  </thead>\n",
       "  <tbody>\n",
       "    <tr>\n",
       "      <th>2019-01-02</th>\n",
       "      <td>55</td>\n",
       "      <td>110.7200</td>\n",
       "      <td>114.6443</td>\n",
       "      <td>110.4037</td>\n",
       "      <td>113.8831</td>\n",
       "      <td>4239924.0</td>\n",
       "    </tr>\n",
       "    <tr>\n",
       "      <th>2019-01-03</th>\n",
       "      <td>60</td>\n",
       "      <td>113.2110</td>\n",
       "      <td>113.5569</td>\n",
       "      <td>111.3921</td>\n",
       "      <td>111.6096</td>\n",
       "      <td>4346659.0</td>\n",
       "    </tr>\n",
       "    <tr>\n",
       "      <th>2019-01-04</th>\n",
       "      <td>63</td>\n",
       "      <td>113.5866</td>\n",
       "      <td>116.1369</td>\n",
       "      <td>113.1220</td>\n",
       "      <td>115.9688</td>\n",
       "      <td>4477755.0</td>\n",
       "    </tr>\n",
       "    <tr>\n",
       "      <th>2019-01-05</th>\n",
       "      <td>32</td>\n",
       "      <td>NaN</td>\n",
       "      <td>NaN</td>\n",
       "      <td>NaN</td>\n",
       "      <td>NaN</td>\n",
       "      <td>NaN</td>\n",
       "    </tr>\n",
       "    <tr>\n",
       "      <th>2019-01-06</th>\n",
       "      <td>30</td>\n",
       "      <td>NaN</td>\n",
       "      <td>NaN</td>\n",
       "      <td>NaN</td>\n",
       "      <td>NaN</td>\n",
       "      <td>NaN</td>\n",
       "    </tr>\n",
       "  </tbody>\n",
       "</table>\n",
       "</div>"
      ],
      "text/plain": [
       "            IBM      open      high       low     close     volume\n",
       "date                                                              \n",
       "2019-01-02   55  110.7200  114.6443  110.4037  113.8831  4239924.0\n",
       "2019-01-03   60  113.2110  113.5569  111.3921  111.6096  4346659.0\n",
       "2019-01-04   63  113.5866  116.1369  113.1220  115.9688  4477755.0\n",
       "2019-01-05   32       NaN       NaN       NaN       NaN        NaN\n",
       "2019-01-06   30       NaN       NaN       NaN       NaN        NaN"
      ]
     },
     "execution_count": 7,
     "metadata": {},
     "output_type": "execute_result"
    }
   ],
   "source": [
    "IBM.head()"
   ]
  },
  {
   "cell_type": "code",
   "execution_count": 43,
   "metadata": {},
   "outputs": [],
   "source": [
    "IBM.columns=[\"searches\", \"open\", \"high\", \"low\", \"close\", \"volume\"]"
   ]
  },
  {
   "cell_type": "code",
   "execution_count": 44,
   "metadata": {},
   "outputs": [
    {
     "data": {
      "text/html": [
       "<div>\n",
       "<style scoped>\n",
       "    .dataframe tbody tr th:only-of-type {\n",
       "        vertical-align: middle;\n",
       "    }\n",
       "\n",
       "    .dataframe tbody tr th {\n",
       "        vertical-align: top;\n",
       "    }\n",
       "\n",
       "    .dataframe thead th {\n",
       "        text-align: right;\n",
       "    }\n",
       "</style>\n",
       "<table border=\"1\" class=\"dataframe\">\n",
       "  <thead>\n",
       "    <tr style=\"text-align: right;\">\n",
       "      <th></th>\n",
       "      <th>searches</th>\n",
       "      <th>open</th>\n",
       "      <th>high</th>\n",
       "      <th>low</th>\n",
       "      <th>close</th>\n",
       "      <th>volume</th>\n",
       "    </tr>\n",
       "    <tr>\n",
       "      <th>date</th>\n",
       "      <th></th>\n",
       "      <th></th>\n",
       "      <th></th>\n",
       "      <th></th>\n",
       "      <th></th>\n",
       "      <th></th>\n",
       "    </tr>\n",
       "  </thead>\n",
       "  <tbody>\n",
       "    <tr>\n",
       "      <th>2019-01-02</th>\n",
       "      <td>55</td>\n",
       "      <td>110.7200</td>\n",
       "      <td>114.6443</td>\n",
       "      <td>110.4037</td>\n",
       "      <td>113.8831</td>\n",
       "      <td>4239924.0</td>\n",
       "    </tr>\n",
       "    <tr>\n",
       "      <th>2019-01-03</th>\n",
       "      <td>60</td>\n",
       "      <td>113.2110</td>\n",
       "      <td>113.5569</td>\n",
       "      <td>111.3921</td>\n",
       "      <td>111.6096</td>\n",
       "      <td>4346659.0</td>\n",
       "    </tr>\n",
       "    <tr>\n",
       "      <th>2019-01-04</th>\n",
       "      <td>63</td>\n",
       "      <td>113.5866</td>\n",
       "      <td>116.1369</td>\n",
       "      <td>113.1220</td>\n",
       "      <td>115.9688</td>\n",
       "      <td>4477755.0</td>\n",
       "    </tr>\n",
       "    <tr>\n",
       "      <th>2019-01-05</th>\n",
       "      <td>32</td>\n",
       "      <td>NaN</td>\n",
       "      <td>NaN</td>\n",
       "      <td>NaN</td>\n",
       "      <td>NaN</td>\n",
       "      <td>NaN</td>\n",
       "    </tr>\n",
       "    <tr>\n",
       "      <th>2019-01-06</th>\n",
       "      <td>30</td>\n",
       "      <td>NaN</td>\n",
       "      <td>NaN</td>\n",
       "      <td>NaN</td>\n",
       "      <td>NaN</td>\n",
       "      <td>NaN</td>\n",
       "    </tr>\n",
       "  </tbody>\n",
       "</table>\n",
       "</div>"
      ],
      "text/plain": [
       "            searches      open      high       low     close     volume\n",
       "date                                                                   \n",
       "2019-01-02        55  110.7200  114.6443  110.4037  113.8831  4239924.0\n",
       "2019-01-03        60  113.2110  113.5569  111.3921  111.6096  4346659.0\n",
       "2019-01-04        63  113.5866  116.1369  113.1220  115.9688  4477755.0\n",
       "2019-01-05        32       NaN       NaN       NaN       NaN        NaN\n",
       "2019-01-06        30       NaN       NaN       NaN       NaN        NaN"
      ]
     },
     "execution_count": 44,
     "metadata": {},
     "output_type": "execute_result"
    }
   ],
   "source": [
    "IBM.head()"
   ]
  },
  {
   "cell_type": "code",
   "execution_count": 45,
   "metadata": {
    "collapsed": false
   },
   "outputs": [
    {
     "data": {
      "text/html": [
       "<div>\n",
       "<style scoped>\n",
       "    .dataframe tbody tr th:only-of-type {\n",
       "        vertical-align: middle;\n",
       "    }\n",
       "\n",
       "    .dataframe tbody tr th {\n",
       "        vertical-align: top;\n",
       "    }\n",
       "\n",
       "    .dataframe thead th {\n",
       "        text-align: right;\n",
       "    }\n",
       "</style>\n",
       "<table border=\"1\" class=\"dataframe\">\n",
       "  <thead>\n",
       "    <tr style=\"text-align: right;\">\n",
       "      <th></th>\n",
       "      <th>searches</th>\n",
       "      <th>open</th>\n",
       "      <th>close</th>\n",
       "    </tr>\n",
       "    <tr>\n",
       "      <th>date</th>\n",
       "      <th></th>\n",
       "      <th></th>\n",
       "      <th></th>\n",
       "    </tr>\n",
       "  </thead>\n",
       "  <tbody>\n",
       "    <tr>\n",
       "      <th>2019-01-02</th>\n",
       "      <td>55</td>\n",
       "      <td>110.7200</td>\n",
       "      <td>113.8831</td>\n",
       "    </tr>\n",
       "    <tr>\n",
       "      <th>2019-01-03</th>\n",
       "      <td>60</td>\n",
       "      <td>113.2110</td>\n",
       "      <td>111.6096</td>\n",
       "    </tr>\n",
       "    <tr>\n",
       "      <th>2019-01-04</th>\n",
       "      <td>63</td>\n",
       "      <td>113.5866</td>\n",
       "      <td>115.9688</td>\n",
       "    </tr>\n",
       "    <tr>\n",
       "      <th>2019-01-05</th>\n",
       "      <td>32</td>\n",
       "      <td>NaN</td>\n",
       "      <td>NaN</td>\n",
       "    </tr>\n",
       "    <tr>\n",
       "      <th>2019-01-06</th>\n",
       "      <td>30</td>\n",
       "      <td>NaN</td>\n",
       "      <td>NaN</td>\n",
       "    </tr>\n",
       "  </tbody>\n",
       "</table>\n",
       "</div>"
      ],
      "text/plain": [
       "            searches      open     close\n",
       "date                                    \n",
       "2019-01-02        55  110.7200  113.8831\n",
       "2019-01-03        60  113.2110  111.6096\n",
       "2019-01-04        63  113.5866  115.9688\n",
       "2019-01-05        32       NaN       NaN\n",
       "2019-01-06        30       NaN       NaN"
      ]
     },
     "execution_count": 45,
     "metadata": {},
     "output_type": "execute_result"
    }
   ],
   "source": [
    "IBM[[\"searches\",\"open\", \"close\"]].head()"
   ]
  },
  {
   "cell_type": "code",
   "execution_count": 46,
   "metadata": {},
   "outputs": [
    {
     "data": {
      "text/html": [
       "<div>\n",
       "<style scoped>\n",
       "    .dataframe tbody tr th:only-of-type {\n",
       "        vertical-align: middle;\n",
       "    }\n",
       "\n",
       "    .dataframe tbody tr th {\n",
       "        vertical-align: top;\n",
       "    }\n",
       "\n",
       "    .dataframe thead th {\n",
       "        text-align: right;\n",
       "    }\n",
       "</style>\n",
       "<table border=\"1\" class=\"dataframe\">\n",
       "  <thead>\n",
       "    <tr style=\"text-align: right;\">\n",
       "      <th></th>\n",
       "      <th>searches</th>\n",
       "      <th>open</th>\n",
       "      <th>high</th>\n",
       "      <th>low</th>\n",
       "      <th>close</th>\n",
       "      <th>volume</th>\n",
       "    </tr>\n",
       "  </thead>\n",
       "  <tbody>\n",
       "    <tr>\n",
       "      <th>count</th>\n",
       "      <td>76.000000</td>\n",
       "      <td>52.000000</td>\n",
       "      <td>52.000000</td>\n",
       "      <td>52.000000</td>\n",
       "      <td>52.000000</td>\n",
       "      <td>5.200000e+01</td>\n",
       "    </tr>\n",
       "    <tr>\n",
       "      <th>mean</th>\n",
       "      <td>64.315789</td>\n",
       "      <td>131.193960</td>\n",
       "      <td>132.140821</td>\n",
       "      <td>130.436563</td>\n",
       "      <td>131.468731</td>\n",
       "      <td>4.512839e+06</td>\n",
       "    </tr>\n",
       "    <tr>\n",
       "      <th>std</th>\n",
       "      <td>19.997474</td>\n",
       "      <td>8.658265</td>\n",
       "      <td>8.398118</td>\n",
       "      <td>8.658013</td>\n",
       "      <td>8.378155</td>\n",
       "      <td>2.793911e+06</td>\n",
       "    </tr>\n",
       "    <tr>\n",
       "      <th>min</th>\n",
       "      <td>30.000000</td>\n",
       "      <td>110.720000</td>\n",
       "      <td>113.556900</td>\n",
       "      <td>110.403700</td>\n",
       "      <td>111.609600</td>\n",
       "      <td>2.530968e+06</td>\n",
       "    </tr>\n",
       "    <tr>\n",
       "      <th>25%</th>\n",
       "      <td>38.500000</td>\n",
       "      <td>121.872575</td>\n",
       "      <td>123.054375</td>\n",
       "      <td>121.007575</td>\n",
       "      <td>122.072725</td>\n",
       "      <td>3.304998e+06</td>\n",
       "    </tr>\n",
       "    <tr>\n",
       "      <th>50%</th>\n",
       "      <td>73.500000</td>\n",
       "      <td>133.692350</td>\n",
       "      <td>134.773100</td>\n",
       "      <td>133.473050</td>\n",
       "      <td>133.989450</td>\n",
       "      <td>3.877016e+06</td>\n",
       "    </tr>\n",
       "    <tr>\n",
       "      <th>75%</th>\n",
       "      <td>78.250000</td>\n",
       "      <td>138.182500</td>\n",
       "      <td>138.790000</td>\n",
       "      <td>137.366250</td>\n",
       "      <td>138.055000</td>\n",
       "      <td>4.792644e+06</td>\n",
       "    </tr>\n",
       "    <tr>\n",
       "      <th>max</th>\n",
       "      <td>100.000000</td>\n",
       "      <td>140.000000</td>\n",
       "      <td>140.490000</td>\n",
       "      <td>139.470000</td>\n",
       "      <td>140.210000</td>\n",
       "      <td>2.206367e+07</td>\n",
       "    </tr>\n",
       "  </tbody>\n",
       "</table>\n",
       "</div>"
      ],
      "text/plain": [
       "         searches        open        high         low       close  \\\n",
       "count   76.000000   52.000000   52.000000   52.000000   52.000000   \n",
       "mean    64.315789  131.193960  132.140821  130.436563  131.468731   \n",
       "std     19.997474    8.658265    8.398118    8.658013    8.378155   \n",
       "min     30.000000  110.720000  113.556900  110.403700  111.609600   \n",
       "25%     38.500000  121.872575  123.054375  121.007575  122.072725   \n",
       "50%     73.500000  133.692350  134.773100  133.473050  133.989450   \n",
       "75%     78.250000  138.182500  138.790000  137.366250  138.055000   \n",
       "max    100.000000  140.000000  140.490000  139.470000  140.210000   \n",
       "\n",
       "             volume  \n",
       "count  5.200000e+01  \n",
       "mean   4.512839e+06  \n",
       "std    2.793911e+06  \n",
       "min    2.530968e+06  \n",
       "25%    3.304998e+06  \n",
       "50%    3.877016e+06  \n",
       "75%    4.792644e+06  \n",
       "max    2.206367e+07  "
      ]
     },
     "execution_count": 46,
     "metadata": {},
     "output_type": "execute_result"
    }
   ],
   "source": [
    "IBM.describe()"
   ]
  },
  {
   "cell_type": "code",
   "execution_count": 47,
   "metadata": {},
   "outputs": [
    {
     "data": {
      "text/plain": [
       "<matplotlib.axes._subplots.AxesSubplot at 0x191b564c860>"
      ]
     },
     "execution_count": 47,
     "metadata": {},
     "output_type": "execute_result"
    },
    {
     "data": {
      "image/png": "[encoded data removed]",
      "text/plain": [
       "<Figure size 432x288 with 1 Axes>"
      ]
     },
     "metadata": {
      "needs_background": "light"
     },
     "output_type": "display_data"
    }
   ],
   "source": [
    "IBM.plot.scatter(x = \"searches\", y = \"close\")"
   ]
  },
  {
   "cell_type": "code",
   "execution_count": 48,
   "metadata": {},
   "outputs": [
    {
     "data": {
      "text/plain": [
       "array([[ 1., nan],\n",
       "       [nan, nan]])"
      ]
     },
     "execution_count": 48,
     "metadata": {},
     "output_type": "execute_result"
    }
   ],
   "source": [
    "np.corrcoef(IBM[\"searches\"], IBM[\"close\"])"
   ]
  },
  {
   "cell_type": "code",
   "execution_count": 49,
   "metadata": {},
   "outputs": [
    {
     "data": {
      "image/png": "[encoded data removed]",
      "text/plain": [
       "<Figure size 432x288 with 2 Axes>"
      ]
     },
     "metadata": {
      "needs_background": "light"
     },
     "output_type": "display_data"
    },
    {
     "data": {
      "text/plain": [
       "<Figure size 432x288 with 0 Axes>"
      ]
     },
     "metadata": {},
     "output_type": "display_data"
    }
   ],
   "source": [
    "fig, ax1 = plt.subplots()\n",
    "plt.figure()\n",
    "ax1.plot(IBM[\"searches\"])\n",
    "ax1.set_xlabel(\"Date\")\n",
    "ax1.set_ylabel(\"searches\", color = \"b\")\n",
    "ax1.tick_params(\"y\", colors = \"b\")\n",
    "\n",
    "ax2 = ax1.twinx()\n",
    "ax2.plot(IBM[\"close\"], \"r\")  #Plotting closing price as red.\n",
    "ax2.set_ylabel(\"price\", color = \"r\")\n",
    "ax2.tick_params(\"y\", colors = \"r\")\n",
    "\n",
    "fig.autofmt_xdate()\n",
    "\n",
    "fig.legend((\"searches\", \"closing price\"))\n",
    "plt.show()"
   ]
  },
  {
   "cell_type": "code",
   "execution_count": 16,
   "metadata": {},
   "outputs": [],
   "source": [
    "# not conclusive, but it seem like, after the searches goes up, the prices goes up steadily \n",
    "# aswell for a while. (the searches can be seen as a shock to the price, and it takes a while for the price to find a new level)\n",
    "# the investors might be unsure wheter the increase will continue, and therefore wait some time before investing."
   ]
  },
  {
   "cell_type": "code",
   "execution_count": 17,
   "metadata": {},
   "outputs": [],
   "source": [
    "# The dates are in a different order"
   ]
  },
  {
   "cell_type": "code",
   "execution_count": 61,
   "metadata": {},
   "outputs": [
    {
     "data": {
      "text/html": [
       "<div>\n",
       "<style scoped>\n",
       "    .dataframe tbody tr th:only-of-type {\n",
       "        vertical-align: middle;\n",
       "    }\n",
       "\n",
       "    .dataframe tbody tr th {\n",
       "        vertical-align: top;\n",
       "    }\n",
       "\n",
       "    .dataframe thead th {\n",
       "        text-align: right;\n",
       "    }\n",
       "</style>\n",
       "<table border=\"1\" class=\"dataframe\">\n",
       "  <thead>\n",
       "    <tr style=\"text-align: right;\">\n",
       "      <th></th>\n",
       "      <th>Date</th>\n",
       "      <th>Price</th>\n",
       "      <th>Open</th>\n",
       "      <th>High</th>\n",
       "      <th>Low</th>\n",
       "      <th>Change %</th>\n",
       "    </tr>\n",
       "  </thead>\n",
       "  <tbody>\n",
       "    <tr>\n",
       "      <th>1</th>\n",
       "      <td>Dec 23, 2018</td>\n",
       "      <td>2.716</td>\n",
       "      <td>2.826</td>\n",
       "      <td>2.826</td>\n",
       "      <td>2.713</td>\n",
       "      <td>-2.58%</td>\n",
       "    </tr>\n",
       "    <tr>\n",
       "      <th>2</th>\n",
       "      <td>Dec 16, 2018</td>\n",
       "      <td>2.788</td>\n",
       "      <td>2.895</td>\n",
       "      <td>2.898</td>\n",
       "      <td>2.748</td>\n",
       "      <td>-3.70%</td>\n",
       "    </tr>\n",
       "    <tr>\n",
       "      <th>3</th>\n",
       "      <td>Dec 09, 2018</td>\n",
       "      <td>2.895</td>\n",
       "      <td>2.829</td>\n",
       "      <td>2.918</td>\n",
       "      <td>2.825</td>\n",
       "      <td>1.29%</td>\n",
       "    </tr>\n",
       "    <tr>\n",
       "      <th>4</th>\n",
       "      <td>Dec 02, 2018</td>\n",
       "      <td>2.858</td>\n",
       "      <td>3.037</td>\n",
       "      <td>3.050</td>\n",
       "      <td>2.826</td>\n",
       "      <td>-4.51%</td>\n",
       "    </tr>\n",
       "    <tr>\n",
       "      <th>5</th>\n",
       "      <td>Nov 25, 2018</td>\n",
       "      <td>2.993</td>\n",
       "      <td>3.050</td>\n",
       "      <td>3.079</td>\n",
       "      <td>2.988</td>\n",
       "      <td>-1.74%</td>\n",
       "    </tr>\n",
       "  </tbody>\n",
       "</table>\n",
       "</div>"
      ],
      "text/plain": [
       "           Date  Price   Open   High    Low Change %\n",
       "1  Dec 23, 2018  2.716  2.826  2.826  2.713   -2.58%\n",
       "2  Dec 16, 2018  2.788  2.895  2.898  2.748   -3.70%\n",
       "3  Dec 09, 2018  2.895  2.829  2.918  2.825    1.29%\n",
       "4  Dec 02, 2018  2.858  3.037  3.050  2.826   -4.51%\n",
       "5  Nov 25, 2018  2.993  3.050  3.079  2.988   -1.74%"
      ]
     },
     "execution_count": 61,
     "metadata": {},
     "output_type": "execute_result"
    }
   ],
   "source": [
    "USbond = pd.read_csv(\"10 year bond Weekly.csv\")\n",
    "US_bond = USbond.drop([52, 0], axis = 0)\n",
    "US_bond.head()"
   ]
  },
  {
   "cell_type": "code",
   "execution_count": 63,
   "metadata": {},
   "outputs": [
    {
     "data": {
      "text/html": [
       "<div>\n",
       "<style scoped>\n",
       "    .dataframe tbody tr th:only-of-type {\n",
       "        vertical-align: middle;\n",
       "    }\n",
       "\n",
       "    .dataframe tbody tr th {\n",
       "        vertical-align: top;\n",
       "    }\n",
       "\n",
       "    .dataframe thead th {\n",
       "        text-align: right;\n",
       "    }\n",
       "</style>\n",
       "<table border=\"1\" class=\"dataframe\">\n",
       "  <thead>\n",
       "    <tr style=\"text-align: right;\">\n",
       "      <th></th>\n",
       "      <th>Date</th>\n",
       "      <th>Price</th>\n",
       "      <th>Open</th>\n",
       "      <th>High</th>\n",
       "      <th>Low</th>\n",
       "      <th>Change %</th>\n",
       "    </tr>\n",
       "  </thead>\n",
       "  <tbody>\n",
       "    <tr>\n",
       "      <th>51</th>\n",
       "      <td>Jan 07, 2018</td>\n",
       "      <td>2.550</td>\n",
       "      <td>2.480</td>\n",
       "      <td>2.597</td>\n",
       "      <td>2.462</td>\n",
       "      <td>2.99%</td>\n",
       "    </tr>\n",
       "    <tr>\n",
       "      <th>50</th>\n",
       "      <td>Jan 14, 2018</td>\n",
       "      <td>2.661</td>\n",
       "      <td>2.553</td>\n",
       "      <td>2.663</td>\n",
       "      <td>2.522</td>\n",
       "      <td>4.35%</td>\n",
       "    </tr>\n",
       "    <tr>\n",
       "      <th>49</th>\n",
       "      <td>Jan 21, 2018</td>\n",
       "      <td>2.660</td>\n",
       "      <td>2.661</td>\n",
       "      <td>2.676</td>\n",
       "      <td>2.609</td>\n",
       "      <td>-0.04%</td>\n",
       "    </tr>\n",
       "    <tr>\n",
       "      <th>48</th>\n",
       "      <td>Jan 28, 2018</td>\n",
       "      <td>2.841</td>\n",
       "      <td>2.658</td>\n",
       "      <td>2.854</td>\n",
       "      <td>2.654</td>\n",
       "      <td>6.80%</td>\n",
       "    </tr>\n",
       "    <tr>\n",
       "      <th>47</th>\n",
       "      <td>Feb 04, 2018</td>\n",
       "      <td>2.857</td>\n",
       "      <td>2.847</td>\n",
       "      <td>2.885</td>\n",
       "      <td>2.648</td>\n",
       "      <td>0.56%</td>\n",
       "    </tr>\n",
       "  </tbody>\n",
       "</table>\n",
       "</div>"
      ],
      "text/plain": [
       "            Date  Price   Open   High    Low Change %\n",
       "51  Jan 07, 2018  2.550  2.480  2.597  2.462    2.99%\n",
       "50  Jan 14, 2018  2.661  2.553  2.663  2.522    4.35%\n",
       "49  Jan 21, 2018  2.660  2.661  2.676  2.609   -0.04%\n",
       "48  Jan 28, 2018  2.841  2.658  2.854  2.654    6.80%\n",
       "47  Feb 04, 2018  2.857  2.847  2.885  2.648    0.56%"
      ]
     },
     "execution_count": 63,
     "metadata": {},
     "output_type": "execute_result"
    }
   ],
   "source": [
    "US_bond.reset_index(drop = True)\n",
    "US_bond.sort_index(axis = 0, level = None, ascending = False).head()"
   ]
  },
  {
   "cell_type": "code",
   "execution_count": 24,
   "metadata": {},
   "outputs": [],
   "source": [
    "# Sørg for at den starter ved index 0 og ikke index 1, så skulle den være der, så de alligner."
   ]
  },
  {
   "cell_type": "code",
   "execution_count": 25,
   "metadata": {},
   "outputs": [],
   "source": [
    "#sæt de to figurer sammmen, men i stedet for IBM så din"
   ]
  },
  {
   "cell_type": "code",
   "execution_count": 64,
   "metadata": {},
   "outputs": [],
   "source": [
    "SPX = pd.read_csv(\"SPX-weekly-2018.csv\")\n",
    "SPX2 = SPX.shift(-2, axis = 0)\n",
    "SPX_weekly = SPX2.drop([51,52], axis = 0)"
   ]
  },
  {
   "cell_type": "code",
   "execution_count": 65,
   "metadata": {},
   "outputs": [
    {
     "data": {
      "text/html": [
       "<div>\n",
       "<style scoped>\n",
       "    .dataframe tbody tr th:only-of-type {\n",
       "        vertical-align: middle;\n",
       "    }\n",
       "\n",
       "    .dataframe tbody tr th {\n",
       "        vertical-align: top;\n",
       "    }\n",
       "\n",
       "    .dataframe thead th {\n",
       "        text-align: right;\n",
       "    }\n",
       "</style>\n",
       "<table border=\"1\" class=\"dataframe\">\n",
       "  <thead>\n",
       "    <tr style=\"text-align: right;\">\n",
       "      <th></th>\n",
       "      <th>Date</th>\n",
       "      <th>Open</th>\n",
       "      <th>High</th>\n",
       "      <th>Low</th>\n",
       "      <th>Close</th>\n",
       "      <th>Adj Close</th>\n",
       "      <th>Volume</th>\n",
       "    </tr>\n",
       "  </thead>\n",
       "  <tbody>\n",
       "    <tr>\n",
       "      <th>0</th>\n",
       "      <td>2018-01-08</td>\n",
       "      <td>2742.669922</td>\n",
       "      <td>2787.850098</td>\n",
       "      <td>2736.060059</td>\n",
       "      <td>2786.239990</td>\n",
       "      <td>2786.239990</td>\n",
       "      <td>1.748777e+10</td>\n",
       "    </tr>\n",
       "    <tr>\n",
       "      <th>1</th>\n",
       "      <td>2018-01-15</td>\n",
       "      <td>2798.959961</td>\n",
       "      <td>2810.330078</td>\n",
       "      <td>2768.639893</td>\n",
       "      <td>2810.300049</td>\n",
       "      <td>2810.300049</td>\n",
       "      <td>1.542492e+10</td>\n",
       "    </tr>\n",
       "    <tr>\n",
       "      <th>2</th>\n",
       "      <td>2018-01-22</td>\n",
       "      <td>2809.159912</td>\n",
       "      <td>2872.870117</td>\n",
       "      <td>2808.120117</td>\n",
       "      <td>2872.870117</td>\n",
       "      <td>2872.870117</td>\n",
       "      <td>1.828388e+10</td>\n",
       "    </tr>\n",
       "    <tr>\n",
       "      <th>3</th>\n",
       "      <td>2018-01-29</td>\n",
       "      <td>2867.229980</td>\n",
       "      <td>2870.620117</td>\n",
       "      <td>2759.969971</td>\n",
       "      <td>2762.129883</td>\n",
       "      <td>2762.129883</td>\n",
       "      <td>2.006534e+10</td>\n",
       "    </tr>\n",
       "    <tr>\n",
       "      <th>4</th>\n",
       "      <td>2018-02-05</td>\n",
       "      <td>2741.060059</td>\n",
       "      <td>2763.389893</td>\n",
       "      <td>2532.689941</td>\n",
       "      <td>2619.550049</td>\n",
       "      <td>2619.550049</td>\n",
       "      <td>2.678720e+10</td>\n",
       "    </tr>\n",
       "  </tbody>\n",
       "</table>\n",
       "</div>"
      ],
      "text/plain": [
       "         Date         Open         High          Low        Close  \\\n",
       "0  2018-01-08  2742.669922  2787.850098  2736.060059  2786.239990   \n",
       "1  2018-01-15  2798.959961  2810.330078  2768.639893  2810.300049   \n",
       "2  2018-01-22  2809.159912  2872.870117  2808.120117  2872.870117   \n",
       "3  2018-01-29  2867.229980  2870.620117  2759.969971  2762.129883   \n",
       "4  2018-02-05  2741.060059  2763.389893  2532.689941  2619.550049   \n",
       "\n",
       "     Adj Close        Volume  \n",
       "0  2786.239990  1.748777e+10  \n",
       "1  2810.300049  1.542492e+10  \n",
       "2  2872.870117  1.828388e+10  \n",
       "3  2762.129883  2.006534e+10  \n",
       "4  2619.550049  2.678720e+10  "
      ]
     },
     "execution_count": 65,
     "metadata": {},
     "output_type": "execute_result"
    }
   ],
   "source": [
    "SPX_weekly.head()"
   ]
  },
  {
   "cell_type": "code",
   "execution_count": 66,
   "metadata": {},
   "outputs": [
    {
     "data": {
      "text/html": [
       "<div>\n",
       "<style scoped>\n",
       "    .dataframe tbody tr th:only-of-type {\n",
       "        vertical-align: middle;\n",
       "    }\n",
       "\n",
       "    .dataframe tbody tr th {\n",
       "        vertical-align: top;\n",
       "    }\n",
       "\n",
       "    .dataframe thead th {\n",
       "        text-align: right;\n",
       "    }\n",
       "</style>\n",
       "<table border=\"1\" class=\"dataframe\">\n",
       "  <thead>\n",
       "    <tr style=\"text-align: right;\">\n",
       "      <th></th>\n",
       "      <th>Date</th>\n",
       "      <th>Open</th>\n",
       "      <th>High</th>\n",
       "      <th>Low</th>\n",
       "      <th>Close</th>\n",
       "      <th>Adj Close</th>\n",
       "      <th>Volume</th>\n",
       "    </tr>\n",
       "  </thead>\n",
       "  <tbody>\n",
       "    <tr>\n",
       "      <th>46</th>\n",
       "      <td>2018-11-26</td>\n",
       "      <td>2649.969971</td>\n",
       "      <td>2760.879883</td>\n",
       "      <td>2649.969971</td>\n",
       "      <td>2760.169922</td>\n",
       "      <td>2760.169922</td>\n",
       "      <td>1.910019e+10</td>\n",
       "    </tr>\n",
       "    <tr>\n",
       "      <th>47</th>\n",
       "      <td>2018-12-03</td>\n",
       "      <td>2790.500000</td>\n",
       "      <td>2800.179932</td>\n",
       "      <td>2621.530029</td>\n",
       "      <td>2633.080078</td>\n",
       "      <td>2633.080078</td>\n",
       "      <td>1.804406e+10</td>\n",
       "    </tr>\n",
       "    <tr>\n",
       "      <th>48</th>\n",
       "      <td>2018-12-10</td>\n",
       "      <td>2630.860107</td>\n",
       "      <td>2685.439941</td>\n",
       "      <td>2583.229980</td>\n",
       "      <td>2599.949951</td>\n",
       "      <td>2599.949951</td>\n",
       "      <td>1.997553e+10</td>\n",
       "    </tr>\n",
       "    <tr>\n",
       "      <th>49</th>\n",
       "      <td>2018-12-17</td>\n",
       "      <td>2590.750000</td>\n",
       "      <td>2601.129883</td>\n",
       "      <td>2408.550049</td>\n",
       "      <td>2416.620117</td>\n",
       "      <td>2416.620117</td>\n",
       "      <td>2.740996e+10</td>\n",
       "    </tr>\n",
       "    <tr>\n",
       "      <th>50</th>\n",
       "      <td>2018-12-24</td>\n",
       "      <td>2400.560059</td>\n",
       "      <td>2520.270020</td>\n",
       "      <td>2346.580078</td>\n",
       "      <td>2485.739990</td>\n",
       "      <td>2485.739990</td>\n",
       "      <td>1.464715e+10</td>\n",
       "    </tr>\n",
       "  </tbody>\n",
       "</table>\n",
       "</div>"
      ],
      "text/plain": [
       "          Date         Open         High          Low        Close  \\\n",
       "46  2018-11-26  2649.969971  2760.879883  2649.969971  2760.169922   \n",
       "47  2018-12-03  2790.500000  2800.179932  2621.530029  2633.080078   \n",
       "48  2018-12-10  2630.860107  2685.439941  2583.229980  2599.949951   \n",
       "49  2018-12-17  2590.750000  2601.129883  2408.550049  2416.620117   \n",
       "50  2018-12-24  2400.560059  2520.270020  2346.580078  2485.739990   \n",
       "\n",
       "      Adj Close        Volume  \n",
       "46  2760.169922  1.910019e+10  \n",
       "47  2633.080078  1.804406e+10  \n",
       "48  2599.949951  1.997553e+10  \n",
       "49  2416.620117  2.740996e+10  \n",
       "50  2485.739990  1.464715e+10  "
      ]
     },
     "execution_count": 66,
     "metadata": {},
     "output_type": "execute_result"
    }
   ],
   "source": [
    "SPX_weekly.tail()"
   ]
  },
  {
   "cell_type": "code",
   "execution_count": 68,
   "metadata": {},
   "outputs": [
    {
     "data": {
      "image/png": "[encoded data removed]",
      "text/plain": [
       "<Figure size 432x288 with 2 Axes>"
      ]
     },
     "metadata": {
      "needs_background": "light"
     },
     "output_type": "display_data"
    },
    {
     "data": {
      "text/plain": [
       "<Figure size 432x288 with 0 Axes>"
      ]
     },
     "metadata": {},
     "output_type": "display_data"
    }
   ],
   "source": [
    "fig, ax1 = plt.subplots()\n",
    "plt.figure()\n",
    "\n",
    "ax1.plot(SPX_weekly[\"Open\"])\n",
    "ax1.set_xlabel(\"Week\")\n",
    "ax1.set_ylabel(\"SPX\", color = \"b\")\n",
    "ax1.tick_params(\"y\", colors = \"b\")\n",
    "\n",
    "\n",
    "ax2 = ax1.twinx()\n",
    "ax2.plot(US_bond[\"Open\"], \"r\")  #Plotting closing price as red.\n",
    "ax2.set_ylabel(\"Bond\", color = \"r\")\n",
    "ax2.tick_params(\"y\", colors = \"r\")\n",
    "\n",
    "fig.autofmt_xdate()\n",
    "plt.show()\n",
    "\n",
    "fig.autofmt_xdate()\n",
    "plt.show()"
   ]
  },
  {
   "cell_type": "code",
   "execution_count": 69,
   "metadata": {},
   "outputs": [
    {
     "data": {
      "text/plain": [
       "array([[1.       , 0.1478871],\n",
       "       [0.1478871, 1.       ]])"
      ]
     },
     "execution_count": 69,
     "metadata": {},
     "output_type": "execute_result"
    }
   ],
   "source": [
    "np.corrcoef(SPX_weekly[\"Open\"], US_bond[\"Open\"])"
   ]
  },
  {
   "cell_type": "code",
   "execution_count": null,
   "metadata": {},
   "outputs": [],
   "source": [
    "# som forventet en positiv correlation. Når Obligations kurserne falder -> højere renter -> højere alternativafkast til aktier -> køber færre aktier -> aktiekurser falder. \n",
    "# ikke nødvendigvis alternativ? hvis man bare investere mindre generelt. "
   ]
  }
 ],
 "metadata": {
  "kernelspec": {
   "display_name": "Python 3",
   "language": "python",
   "name": "python3"
  },
  "language_info": {
   "codemirror_mode": {
    "name": "ipython",
    "version": 3
   },
   "file_extension": ".py",
   "mimetype": "text/x-python",
   "name": "python",
   "nbconvert_exporter": "python",
   "pygments_lexer": "ipython3",
   "version": "3.7.1"
  }
 },
 "nbformat": 4,
 "nbformat_minor": 2
}
